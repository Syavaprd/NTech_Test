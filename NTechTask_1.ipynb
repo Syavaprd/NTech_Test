{
 "cells": [
  {
   "cell_type": "markdown",
   "metadata": {},
   "source": [
    "# Задача 1"
   ]
  },
  {
   "cell_type": "markdown",
   "metadata": {},
   "source": [
    "## Naive implementation.  Complexity is O(n^3). We can implement it with a complexity of O(n^2) with the pre-calculation of prefix sums with O(n) complexity. But it's the most naive implementation and will be used only for testing."
   ]
  },
  {
   "cell_type": "code",
   "execution_count": 23,
   "metadata": {},
   "outputs": [],
   "source": [
    "def NaiveSolution(A):\n",
    "    if not isinstance(A, list):\n",
    "        raise NameError('A is not a list')\n",
    "    if len(A) == 0:\n",
    "        raise NameError('Array of size 0\\n')\n",
    "    best_sum = A[0]\n",
    "    best_l = 0\n",
    "    best_r = 0\n",
    "    for l in range(len(A)):                 # Цикл по левой границе\n",
    "        for r in range(l, len(A)):          # Цикл по правой границу\n",
    "            cur_sum = 0\n",
    "            for i in range(l, r + 1):       # Подсчет суммы\n",
    "                cur_sum += A[i]\n",
    "            if cur_sum > best_sum:          # Сравнение с лучшим ответом\n",
    "                best_sum = cur_sum\n",
    "                best_l, best_r = l, r\n",
    "    ans = []\n",
    "    for i in range(best_l, best_r + 1):\n",
    "        ans.append(A[i])\n",
    "    return ans"
   ]
  },
  {
   "cell_type": "code",
   "execution_count": 24,
   "metadata": {},
   "outputs": [
    {
     "data": {
      "text/plain": [
       "[4, -1, 2, 1]"
      ]
     },
     "execution_count": 24,
     "metadata": {},
     "output_type": "execute_result"
    }
   ],
   "source": [
    "NaiveSolution([-2, 1, -3, 4, -1, 2, 1, -5, 4])"
   ]
  },
  {
   "cell_type": "markdown",
   "metadata": {},
   "source": [
    "## Notation: l - left boundary; r - right boundary (l <= r); s[i] - prefix sum of A, (A[0] + ... + A[i]). A[0] defaultly equals to 0."
   ]
  },
  {
   "cell_type": "markdown",
   "metadata": {},
   "source": [
    "## Implementation with O(n) complexity. The solution of the given task. We will loop over the r, and for each r we will find an optimal l, so the s[r] - s[l - 1] is maximum. With the constant r, we just have to find the minimum s[i] in the [0; r - 1] segment. For that task we will recompute the minimum on each iteration of the loop, so we can always find the minimum in O(1) complexity."
   ]
  },
  {
   "cell_type": "code",
   "execution_count": 25,
   "metadata": {},
   "outputs": [],
   "source": [
    "def findMaxSubArray(A):\n",
    "    if not isinstance(A, list):\n",
    "        raise NameError('A is not a list')\n",
    "    if len(A) == 0:\n",
    "        raise NameError('Array of size 0\\n')\n",
    "    best_sum = A[0]\n",
    "    best_l = 0\n",
    "    best_r = 0\n",
    "    cur_sum = 0\n",
    "    min_sum = 0\n",
    "    min_pos = -1\n",
    "    for i in range(len(A)):             # loop over the right boundary\n",
    "        cur_sum += A[i]\n",
    "        cur = cur_sum - min_sum\n",
    "        \n",
    "        if cur > best_sum:              # update if the curent sum is bigger than the best\n",
    "            best_sum = cur\n",
    "            best_l = min_pos + 1\n",
    "            best_r = i\n",
    "            \n",
    "        if cur_sum < min_sum:           # update minimum sum\n",
    "            min_sum = cur_sum\n",
    "            min_pos = i\n",
    "            \n",
    "    ans = []\n",
    "    for i in range(best_l, best_r + 1):  #get result list\n",
    "        ans.append(A[i])\n",
    "    return ans"
   ]
  },
  {
   "cell_type": "markdown",
   "metadata": {},
   "source": [
    "## Testing, Here I will use numpy library. It's not the part of the solution, it's just to show hot to run stresstest"
   ]
  },
  {
   "cell_type": "code",
   "execution_count": 26,
   "metadata": {},
   "outputs": [],
   "source": [
    "import numpy as np"
   ]
  },
  {
   "cell_type": "code",
   "execution_count": 27,
   "metadata": {},
   "outputs": [],
   "source": [
    "num = 100000\n",
    "for i in range(num):\n",
    "    arr1 = np.random.randint(-400, 400, 30).tolist()\n",
    "    ans1 = NaiveSolution(arr1)\n",
    "    ans2 = findMaxSubArray(arr1)\n",
    "    assert ans1 == ans2"
   ]
  },
  {
   "cell_type": "code",
   "execution_count": null,
   "metadata": {},
   "outputs": [],
   "source": []
  }
 ],
 "metadata": {
  "kernelspec": {
   "display_name": "Python 3",
   "language": "python",
   "name": "python3"
  },
  "language_info": {
   "codemirror_mode": {
    "name": "ipython",
    "version": 3
   },
   "file_extension": ".py",
   "mimetype": "text/x-python",
   "name": "python",
   "nbconvert_exporter": "python",
   "pygments_lexer": "ipython3",
   "version": "3.6.10"
  }
 },
 "nbformat": 4,
 "nbformat_minor": 4
}
